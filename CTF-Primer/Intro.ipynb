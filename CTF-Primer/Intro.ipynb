{
 "cells": [
  {
   "cell_type": "markdown",
   "metadata": {},
   "source": [
    "In a dictionary, we can find two related definitions:\n",
    "\n",
    "1. An expert at programming and solving problems with a computer\n",
    "2. A person who illegally gains access to and sometimes tampers with information in a computer system"
   ]
  },
  {
   "cell_type": "markdown",
   "metadata": {},
   "source": [
    "## 3. Forensics \n",
    "\n",
    "Digital Forensics is the field in cybersecurity that tries to gather and understand **evidence** after an **incident**, which can be crime, to determine how it happened."
   ]
  },
  {
   "cell_type": "markdown",
   "metadata": {},
   "source": [
    "### 3.2. How to search for strings and filenames\n",
    "\n",
    "- `file`\n",
    "- `grep`\n",
    "- `find`"
   ]
  },
  {
   "cell_type": "markdown",
   "metadata": {},
   "source": [
    "### 3.3. Disk analysis\n",
    "\n",
    "Sleuthkit\n",
    "\n",
    "- `fls`\n",
    "- `icat`\n",
    "- `mmls`"
   ]
  },
  {
   "cell_type": "markdown",
   "metadata": {},
   "source": [
    "### 3.4 Packet analysis\n",
    "\n",
    "- tcp PSH flag, packet plaintext contains the flag\n",
    "\n",
    "icoCTF{p4ck37_5h4rk_ceccaa7f}\n"
   ]
  },
  {
   "cell_type": "markdown",
   "metadata": {},
   "source": [
    "## 4. Python\n",
    "\n",
    "> here we had knowledge about python, so I will skip this part\n",
    "\n",
    "### 4.8 Pwntools\n",
    "\n"
   ]
  },
  {
   "cell_type": "markdown",
   "metadata": {},
   "source": [
    "## 5. Web Exploits\n",
    "\n"
   ]
  }
 ],
 "metadata": {
  "kernelspec": {
   "display_name": "pwn",
   "language": "python",
   "name": "python3"
  },
  "language_info": {
   "name": "python",
   "version": "3.9.20"
  }
 },
 "nbformat": 4,
 "nbformat_minor": 2
}
