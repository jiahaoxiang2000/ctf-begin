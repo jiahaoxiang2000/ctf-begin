{
 "cells": [
  {
   "cell_type": "markdown",
   "metadata": {},
   "source": [
    "In a dictionary, we can find two related definitions:\n",
    "\n",
    "1. An expert at programming and solving problems with a computer\n",
    "2. A person who illegally gains access to and sometimes tampers with information in a computer system"
   ]
  },
  {
   "cell_type": "markdown",
   "metadata": {},
   "source": [
    "## 3. Forensics \n",
    "\n",
    "Digital Forensics is the field in cybersecurity that tries to gather and understand **evidence** after an **incident**, which can be crime, to determine how it happened."
   ]
  },
  {
   "cell_type": "markdown",
   "metadata": {},
   "source": [
    "### 3.2. How to search for strings and filenames\n",
    "\n",
    "- `file`\n",
    "- `grep`\n",
    "- `find`"
   ]
  },
  {
   "cell_type": "markdown",
   "metadata": {},
   "source": [
    "### 3.3. Disk analysis\n",
    "\n",
    "Sleuthkit\n",
    "\n",
    "- `fls`\n",
    "- `icat`\n",
    "- `mmls`"
   ]
  }
 ],
 "metadata": {
  "kernelspec": {
   "display_name": "test",
   "language": "python",
   "name": "python3"
  },
  "language_info": {
   "name": "python",
   "version": "3.11.9"
  }
 },
 "nbformat": 4,
 "nbformat_minor": 2
}
