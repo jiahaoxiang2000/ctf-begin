{
 "cells": [
  {
   "cell_type": "markdown",
   "metadata": {},
   "source": [
    "## Description\n",
    "\n",
    "I don't like scrolling down to read the code of my website, so I've squished it. As a bonus, my pages load faster!\n",
    "Additional details will be available after launching your challenge instance."
   ]
  },
  {
   "cell_type": "markdown",
   "metadata": {},
   "source": [
    "## Solution\n",
    "\n",
    "the flag is on the source code of the website in the html file.\n",
    "\n",
    "```html\n",
    "<p class=\"picoCTF{pr3tty_c0d3_622b2c88}\"></p>\n",
    "```"
   ]
  }
 ],
 "metadata": {
  "language_info": {
   "name": "python"
  }
 },
 "nbformat": 4,
 "nbformat_minor": 2
}
