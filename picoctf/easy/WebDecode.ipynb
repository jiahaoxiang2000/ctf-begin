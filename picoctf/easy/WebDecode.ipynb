{
 "cells": [
  {
   "cell_type": "markdown",
   "metadata": {},
   "source": [
    "- link https://play.picoctf.org/practice/challenge/427?category=1&page=1\n",
    "- check web source code on html"
   ]
  },
  {
   "cell_type": "markdown",
   "metadata": {},
   "source": [
    "here have the three page is open, `Home`, `About`, `Contact`\n",
    "\n",
    "in the `About` page have the flag\n",
    "\n",
    "```html\n",
    "<section class=\"about\" notify_true=\"cGljb0NURnt3ZWJfc3VjYzNzc2Z1bGx5X2QzYzBkZWRfMWY4MzI2MTV9\">\n",
    "```\n"
   ]
  },
  {
   "cell_type": "code",
   "execution_count": null,
   "metadata": {},
   "outputs": [
    {
     "name": "stdout",
     "output_type": "stream",
     "text": [
      "b'picoCTF{web_succ3ssfully_d3c0ded_1f832615}'\n"
     ]
    }
   ],
   "source": [
    "# use the python to base64 decode the string \"cGljb0NURnt3ZWJfc3VjYzNzc2Z1bGx5X2QzYzBkZWRfMWY4MzI2MTV9\"\n",
    "import base64\n",
    "\n",
    "# decode the string\n",
    "encoded = base64.b64decode(b\"cGljb0NURnt3ZWJfc3VjYzNzc2Z1bGx5X2QzYzBkZWRfMWY4MzI2MTV9\")\n",
    "\n",
    "# print the encoded string\n",
    "print(encoded)"
   ]
  }
 ],
 "metadata": {
  "kernelspec": {
   "display_name": ".venv",
   "language": "python",
   "name": "python3"
  },
  "language_info": {
   "codemirror_mode": {
    "name": "ipython",
    "version": 3
   },
   "file_extension": ".py",
   "mimetype": "text/x-python",
   "name": "python",
   "nbconvert_exporter": "python",
   "pygments_lexer": "ipython3",
   "version": "3.11.9"
  }
 },
 "nbformat": 4,
 "nbformat_minor": 2
}
